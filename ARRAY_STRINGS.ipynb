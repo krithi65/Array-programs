{
  "nbformat": 4,
  "nbformat_minor": 0,
  "metadata": {
    "colab": {
      "name": "ARRAY-STRINGS.ipynb",
      "provenance": [],
      "authorship_tag": "ABX9TyMJ3qmedYAHDkR0XoubegIZ",
      "include_colab_link": true
    },
    "kernelspec": {
      "name": "python3",
      "display_name": "Python 3"
    },
    "language_info": {
      "name": "python"
    }
  },
  "cells": [
    {
      "cell_type": "markdown",
      "metadata": {
        "id": "view-in-github",
        "colab_type": "text"
      },
      "source": [
        "<a href=\"https://colab.research.google.com/github/krithi65/Array-programs/blob/main/ARRAY_STRINGS.ipynb\" target=\"_parent\"><img src=\"https://colab.research.google.com/assets/colab-badge.svg\" alt=\"Open In Colab\"/></a>"
      ]
    },
    {
      "cell_type": "markdown",
      "source": [
        "17.Given a number N and an array of N integers, find the sum of all the negative numbers in the array.\n",
        "Input Size : N <= 100000\n",
        "Sample Testcase :\n",
        "INPUT\n",
        "2\n",
        "3 0\n",
        "OUTPUT\n",
        "0"
      ],
      "metadata": {
        "id": "9cipLZ4gjcQ5"
      }
    },
    {
      "cell_type": "code",
      "source": [
        "num=int(input())\n",
        "arr=list(map(int,input().split()))\n",
        "sum=0\n",
        "for i in arr:\n",
        "    if i<0:\n",
        "     sum+=i\n",
        "print(sum)\n",
        "    "
      ],
      "metadata": {
        "id": "hgRcMk6KjjZT"
      },
      "execution_count": null,
      "outputs": []
    },
    {
      "cell_type": "markdown",
      "source": [
        "19.Size of the array followed by the elements of the array.\n",
        "\n",
        "Output Description:\n",
        "Second largest element of the array.\n",
        "\n",
        "Sample Input :\n",
        "10\n",
        "1 9 8 7 6 5 2 3 4 10\n",
        "Sample Output :\n",
        "9"
      ],
      "metadata": {
        "id": "9KHQYRG_joYt"
      }
    },
    {
      "cell_type": "code",
      "source": [
        "n=int(input())\n",
        "list1 = list(map(int,input().split()))\n",
        "list1.sort()\n",
        "print(list1[-2])"
      ],
      "metadata": {
        "id": "utSJHxwojoCi"
      },
      "execution_count": null,
      "outputs": []
    },
    {
      "cell_type": "markdown",
      "source": [
        "20.the given element is present in the matrix or not.\n",
        "\n",
        "Sample Input :\n",
        "2 5\n",
        "2 3 0 7 1 5 3 4 1 8\n",
        "11\n",
        "Sample Output :\n",
        "no"
      ],
      "metadata": {
        "id": "ZiRwhU4ejzmH"
      }
    },
    {
      "cell_type": "code",
      "source": [
        "n,m=map(int,input().split())\n",
        "arr=list(map(int,input().split()))\n",
        "num=int(input())\n",
        "if num in arr:\n",
        "    print(\"yes\")\n",
        "else:\n",
        "    print(\"no\")\n"
      ],
      "metadata": {
        "id": "vOuoo6Ecj9Tc"
      },
      "execution_count": null,
      "outputs": []
    },
    {
      "cell_type": "markdown",
      "source": [
        "21.find how many times S occurs in the given sentence.If S is not found in the sentence print -1\n",
        "Input Size : |sentence| <= 1000000(complexity O(n)).\n",
        "Sample Testcase :\n",
        "INPUT\n",
        "I enjoy doing codekata\n",
        "codekata\n",
        "OUTPUT\n",
        "1"
      ],
      "metadata": {
        "id": "C8WD6jAZkAK1"
      }
    },
    {
      "cell_type": "code",
      "source": [
        "s = input()\n",
        "ch = input()\n",
        "if ch in s:\n",
        "    print(1)\n",
        "else:\n",
        "    print(-1)"
      ],
      "metadata": {
        "id": "_REUlK69kHo3"
      },
      "execution_count": null,
      "outputs": []
    },
    {
      "cell_type": "markdown",
      "source": [
        "22.Print out the singly occurring number. print 0 if no numbers are repeating.\n",
        "\n",
        "Sample Input :\n",
        "5\n",
        "1 1 2 5 5\n",
        "Sample Output :\n",
        "2"
      ],
      "metadata": {
        "id": "19TWFOuukQqP"
      }
    },
    {
      "cell_type": "code",
      "source": [
        "num=int(input())\n",
        "arr =list(map(int,input().split()))\n",
        "for i in arr:\n",
        "    if arr.count(i)<2:\n",
        "     print(i)    "
      ],
      "metadata": {
        "id": "YsaqTUT_kQWs"
      },
      "execution_count": null,
      "outputs": []
    },
    {
      "cell_type": "markdown",
      "source": [
        "23.Print out the singly occurring number. print 0 if no numbers are repeating.\n",
        "\n",
        "Sample Input :\n",
        "5\n",
        "1 1 2 5 5\n",
        "Sample Output :\n",
        "2"
      ],
      "metadata": {
        "id": "J6IFnf0wkVl-"
      }
    },
    {
      "cell_type": "code",
      "source": [
        "num=int(input())\n",
        "arr =list(map(int,input().split()))\n",
        "for i in arr:\n",
        "    if arr.count(i)<2:\n",
        "     print(i)    "
      ],
      "metadata": {
        "id": "eprTEx-wkK5W"
      },
      "execution_count": null,
      "outputs": []
    },
    {
      "cell_type": "markdown",
      "source": [
        "24.Print out the singly occurring number.\n",
        "\n",
        "Sample Input :\n",
        "5\n",
        "1 1 2 5 5\n",
        "Sample Output :\n",
        "2"
      ],
      "metadata": {
        "id": "39Jzj3xFkfzp"
      }
    },
    {
      "cell_type": "code",
      "source": [
        "num=int(input())\n",
        "arr =list(map(int,input().split()))\n",
        "for i in arr:\n",
        "    if arr.count(i)<2:\n",
        "     print(i)    "
      ],
      "metadata": {
        "id": "ejC1m-KNkkYi"
      },
      "execution_count": null,
      "outputs": []
    },
    {
      "cell_type": "markdown",
      "source": [
        "25.Given 2 array of size N and M.merge them in sorted order and print it.\n",
        "Input Size : |N||M| <= 100000( O(n))\n",
        "Sample Testcase :\n",
        "INPUT\n",
        "5 4\n",
        "1 2 3 4 5\n",
        "1 2 3 4\n",
        "OUTPUT\n",
        "1 1 2 2 3 3 4 4 5"
      ],
      "metadata": {
        "id": "EGUHnAvlkmq2"
      }
    },
    {
      "cell_type": "code",
      "source": [
        "n,m=map(int,input().split())\n",
        "a=list(map(int,input().split()))\n",
        "b=list(map(int,input().split()))\n",
        "c = a+b\n",
        "d=c.sort()\n",
        "print(*c)"
      ],
      "metadata": {
        "id": "c_PZ9JokkrhJ"
      },
      "execution_count": null,
      "outputs": []
    },
    {
      "cell_type": "markdown",
      "source": [
        "26.sort the salaries"
      ],
      "metadata": {
        "id": "GHo2x9ujktmA"
      }
    },
    {
      "cell_type": "code",
      "source": [
        "num = int(input())\n",
        "salary = [int(x) for x in input().split()]\n",
        "salary.sort()\n",
        "print(*salary)"
      ],
      "metadata": {
        "id": "BaPrs_z1kzcF"
      },
      "execution_count": null,
      "outputs": []
    },
    {
      "cell_type": "markdown",
      "source": [
        "27.Print the number with maximum frequency. If two number have equal freqency prin the number that comes first\n",
        "\n",
        "Sample Input :\n",
        "7\n",
        "1 2 3 4 4 4 5\n",
        "Sample Output :\n",
        "4"
      ],
      "metadata": {
        "id": "o6zH2Smiktio"
      }
    },
    {
      "cell_type": "code",
      "source": [
        "import statistics\n",
        "b=int(input( ))\n",
        "a=list(map(int,input( ).split( )))\n",
        "res=statistics.mode(a)\n",
        "print(res)"
      ],
      "metadata": {
        "id": "zjWVMt7Bk-wK"
      },
      "execution_count": null,
      "outputs": []
    },
    {
      "cell_type": "markdown",
      "source": [
        "28. find the number of strings that are an anagram of 'kabali'.If there exists no anagram for the given string print '0'.\n",
        "Input Size : 1 <= N <= 1000\n",
        "Sample Testcase :\n",
        "INPUT\n",
        "5\n",
        "kabali\n",
        "kaabli\n",
        "kababa\n",
        "kab\n",
        "kabail\n",
        "OUTPUT\n",
        "3"
      ],
      "metadata": {
        "id": "GHidbpKUlBMp"
      }
    },
    {
      "cell_type": "code",
      "source": [
        "\n",
        "n = int(input())\n",
        "l = []\n",
        "for i in range(n):\n",
        "    l.append(str(input()))\n",
        "ref = 'kabali'\n",
        "count = 0\n",
        "for i in l:\n",
        "    flag = True\n",
        "    for j in i:\n",
        "        if i.count(j) != ref.count(j):\n",
        "            flag = False\n",
        "            break\n",
        "    if flag:\n",
        "        count+=1\n",
        "print(count)"
      ],
      "metadata": {
        "id": "E8VHH9k9lIjl"
      },
      "execution_count": null,
      "outputs": []
    },
    {
      "cell_type": "markdown",
      "source": [
        "29.Print the minimum element\n",
        "\n",
        "Sample Input :\n",
        "5\n",
        "3 4 9 1 6\n",
        "Sample Output :\n",
        "1"
      ],
      "metadata": {
        "id": "b4nZMdI1lMVs"
      }
    },
    {
      "cell_type": "code",
      "source": [
        "n=int(input())\n",
        "arr=list(map(int,input().split()))\n",
        "print(min(arr))"
      ],
      "metadata": {
        "id": "UYi-JUeIlSiL"
      },
      "execution_count": null,
      "outputs": []
    },
    {
      "cell_type": "markdown",
      "source": [
        "30.an element K is present in the array.print 'yes' if element is present otherwise print 'no'.\n",
        "Input Size : 1 <= N <= 1000000000000000(Do it in logN time complexity)\n",
        "Sample Testcase :\n",
        "INPUT\n",
        "3 2\n",
        "2 3 7\n",
        "OUTPUT\n",
        "Yes"
      ],
      "metadata": {
        "id": "Y1ZwO08GlWnN"
      }
    },
    {
      "cell_type": "code",
      "source": [
        "n,m=map(int,input().split())\n",
        "arr=list(map(int,input().split()))\n",
        "if m in arr:\n",
        "    print(\"yes\")\n",
        "else:\n",
        "    print(\"no\")"
      ],
      "metadata": {
        "id": "KGokjCJ0lcgK"
      },
      "execution_count": null,
      "outputs": []
    },
    {
      "cell_type": "markdown",
      "source": [
        "31.Given a string 'S' swap the even and odd characters starting from index 1(Assume the index starts from 0).\n",
        "Input Size : |s| <= 10000000(complexity O(n))\n",
        "Sample Testcase :\n",
        "INPUT\n",
        "codekata\n",
        "OUTPUT\n",
        "ocedakat"
      ],
      "metadata": {
        "id": "CX-nqlB7le3R"
      }
    },
    {
      "cell_type": "code",
      "source": [
        "data = input( )\n",
        "s=list(data)\n",
        "i = 0\n",
        "while i < s.__len__()-1:\n",
        "    t = s[i]\n",
        "    s[i] = s[i + 1]\n",
        "    s[i + 1] = t\n",
        "    i = i + 2\n",
        "data=s    \n",
        "print(\"\".join(data))\n",
        "  "
      ],
      "metadata": {
        "id": "fXzRauSCllte"
      },
      "execution_count": null,
      "outputs": []
    },
    {
      "cell_type": "markdown",
      "source": [
        "32.Given 2 strings S1 and s2, check whether they are case senitively equal without using any predefined function(case sensitive).If they are not same print 'no'\n",
        "Sample Testcase :\n",
        "INPUT\n",
        "guvi guvi\n",
        "OUTPUT\n",
        "yes"
      ],
      "metadata": {
        "id": "SF44Yow5loy9"
      }
    },
    {
      "cell_type": "code",
      "source": [
        "n,m=map(str,input().split())\n",
        "if(n==m):\n",
        "    print(\"yes\")\n",
        "else:\n",
        "    print(\"no\")"
      ],
      "metadata": {
        "id": "XjrNj55jluCx"
      },
      "execution_count": null,
      "outputs": []
    },
    {
      "cell_type": "markdown",
      "source": [
        "33.Given a number N in decimal convert it into binary value.\n",
        "Input Size : N <= 100000\n",
        "Sample Testcase :\n",
        "INPUT\n",
        "5\n",
        "OUTPUT\n",
        "101"
      ],
      "metadata": {
        "id": "6u58IGxblwYC"
      }
    },
    {
      "cell_type": "code",
      "source": [
        "def decimalToBinary(n):\n",
        "\treturn \"{0:b}\".format(int(n))\n",
        "\n",
        "n=int(input())\n",
        "print(decimalToBinary(n))\n",
        "\t\n"
      ],
      "metadata": {
        "id": "S2-zN-xml7Ck"
      },
      "execution_count": null,
      "outputs": []
    },
    {
      "cell_type": "markdown",
      "source": [
        "34.Given a sentence S take out the extra spaces.If no extra space is present print the same as output.\n",
        "Input Size : |s| <= 100000(complexity O(n))\n",
        "Sample Testcase :\n",
        "INPUT\n",
        "codekata challenge\n",
        "OUTPUT\n",
        "codekata challenge"
      ],
      "metadata": {
        "id": "YPFk6edEl6lK"
      }
    },
    {
      "cell_type": "code",
      "source": [
        "test_str = input()\n",
        "# using split() + join()\n",
        "# remove additional space from string \n",
        "res = \" \".join(test_str.split())\n",
        "print(str(res))\n"
      ],
      "metadata": {
        "id": "3umoPoI8mHDX"
      },
      "execution_count": null,
      "outputs": []
    },
    {
      "cell_type": "markdown",
      "source": [
        "35.Print the position of first 1 from right to left, in binary representation of an Integer.\n",
        "Sample Testcase :\n",
        "INPUT\n",
        "18\n",
        "OUTPUT\n",
        "2"
      ],
      "metadata": {
        "id": "bXKENJ-JmKPG"
      }
    },
    {
      "cell_type": "code",
      "source": [
        "import math\n",
        "n=int(input())\n",
        "res=math.log2(n&-n)+1\n",
        "print(round(res))"
      ],
      "metadata": {
        "id": "etdj2CNRmgU6"
      },
      "execution_count": null,
      "outputs": []
    },
    {
      "cell_type": "markdown",
      "source": [
        "36.Given a binary number convert it to hexadecimal.\n",
        "Sample Testcase :\n",
        "INPUT\n",
        "1100100\n",
        "OUTPUT\n",
        "64"
      ],
      "metadata": {
        "id": "zbf2WIm5mt9Z"
      }
    },
    {
      "cell_type": "code",
      "source": [
        "a=input()\n",
        "b=hex(int(a, 2))\n",
        "print(b[2:])"
      ],
      "metadata": {
        "id": "TUiufGiDmUtZ"
      },
      "execution_count": null,
      "outputs": []
    },
    {
      "cell_type": "markdown",
      "source": [
        "37.find if two consecutive words are same.\n",
        "Input Size : N <= 1000\n",
        "Sample Testcase :\n",
        "INPUT\n",
        "5\n",
        "code\n",
        "overload\n",
        "vishal\n",
        "sundar\n",
        "anish\n",
        "OUTPUT\n",
        "no"
      ],
      "metadata": {
        "id": "hVwp3DJlmxrw"
      }
    },
    {
      "cell_type": "code",
      "source": [
        "n=int(input())\n",
        "a = []\n",
        "for i in range(n):\n",
        "    a.append(str(input()))\n",
        "#print(a)\n",
        "flag = False\n",
        "for i in range(n-1):\n",
        "        if a[i] == a[i+1]:\n",
        "            flag = True\n",
        "if flag:\n",
        "    print(\"yes\")\n",
        "else:\n",
        "    print(\"no\")"
      ],
      "metadata": {
        "id": "d5q_Xr2Om8-k"
      },
      "execution_count": null,
      "outputs": []
    },
    {
      "cell_type": "markdown",
      "source": [
        "38.check whether they lie on the same line.If they lie on the same line print 'yes' Otherwise print 'no'.\n",
        "Sample Testcase :\n",
        "INPUT\n",
        "0 1\n",
        "0 0\n",
        "0 2\n",
        "OUTPUT\n",
        "yes\n",
        "\n"
      ],
      "metadata": {
        "id": "F3VFyyNRnA2c"
      }
    },
    {
      "cell_type": "code",
      "source": [
        "x1,y1=map(int,input().split())\n",
        "x2,y2=map(int,input().split())\n",
        "x3,y3=map(int,input().split())\n",
        "a = x1 * (y2 - y3) + x2 * (y3 - y1) + x3 * (y1 - y2)\n",
        "if (a == 0):\n",
        "    print (\"yes\")\n",
        "else:\n",
        "    print (\"no\")"
      ],
      "metadata": {
        "id": "2entAFAGnKG2"
      },
      "execution_count": null,
      "outputs": []
    }
  ]
}