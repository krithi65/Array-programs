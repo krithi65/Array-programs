{
  "nbformat": 4,
  "nbformat_minor": 0,
  "metadata": {
    "colab": {
      "name": "ARRAYS.ipynb",
      "provenance": [],
      "authorship_tag": "ABX9TyPZuO6XkCiie1ND/omRV0Ha",
      "include_colab_link": true
    },
    "kernelspec": {
      "name": "python3",
      "display_name": "Python 3"
    },
    "language_info": {
      "name": "python"
    }
  },
  "cells": [
    {
      "cell_type": "markdown",
      "metadata": {
        "id": "view-in-github",
        "colab_type": "text"
      },
      "source": [
        "<a href=\"https://colab.research.google.com/github/krithi65/Array-programs/blob/main/ARRAYS.ipynb\" target=\"_parent\"><img src=\"https://colab.research.google.com/assets/colab-badge.svg\" alt=\"Open In Colab\"/></a>"
      ]
    },
    {
      "cell_type": "markdown",
      "source": [
        "1.Print the number which is repeated twice\n",
        "\n",
        "Sample Input :\n",
        "5\n",
        "13 12 13 12 13\n",
        "Sample Output :\n",
        "12"
      ],
      "metadata": {
        "id": "c_5Pk7gPaYW6"
      }
    },
    {
      "cell_type": "code",
      "source": [
        "import collections\n",
        "n=int(input( ))\n",
        "arr = list(map(int,input( ).split( ))) \n",
        "repeats = [\n",
        "    item \n",
        "    for item, count in collections.Counter(arr).items() \n",
        "    if count == 2\n",
        "]\n",
        "print(*repeats)"
      ],
      "metadata": {
        "id": "IqW5wNJbbnKu"
      },
      "execution_count": null,
      "outputs": []
    },
    {
      "cell_type": "markdown",
      "source": [
        "2.Print 1 if array is beautiful and 0 if it is not,A beautiful array is an array whose sum of all numbers is divisible by 2, 3 and 5\n",
        "\n",
        "Sample Input :\n",
        "5\n",
        "5 25 35 -5 30\n",
        "Sample Output :\n",
        "1"
      ],
      "metadata": {
        "id": "lrTiH-cubrSy"
      }
    },
    {
      "cell_type": "code",
      "source": [
        "n=int(input())\n",
        "a=list(map(int,input().split()))\n",
        "sum=0\n",
        "for i in a:\n",
        "    sum=sum+i\n",
        "if(sum%2==0 and sum%3==0 and sum%5==0):\n",
        "    print(1)\n",
        "else:\n",
        "    print(0)"
      ],
      "metadata": {
        "id": "QeobSqM_b6oh"
      },
      "execution_count": null,
      "outputs": []
    },
    {
      "cell_type": "markdown",
      "source": [
        "3.Print the minimum element\n",
        "\n",
        "Sample Input :\n",
        "5\n",
        "3 4 9 1 6\n",
        "Sample Output :\n",
        "1"
      ],
      "metadata": {
        "id": "jU0hvkvzb9mb"
      }
    },
    {
      "cell_type": "code",
      "source": [
        "n=int(input())\n",
        "a=list(map(int,input().split()))\n",
        "c=min(a)\n",
        "print(c)\n"
      ],
      "metadata": {
        "id": "Zt1BqXT6cERa"
      },
      "execution_count": null,
      "outputs": []
    },
    {
      "cell_type": "markdown",
      "source": [
        "4.Given a string S, print it without using semicolon in your program.\n",
        "Sample Testcase :\n",
        "INPUT\n",
        "hello world\n",
        "OUTPUT\n",
        "hello world"
      ],
      "metadata": {
        "id": "SsH827ymcHO0"
      }
    },
    {
      "cell_type": "code",
      "source": [
        "s=input( )\n",
        "print(s)"
      ],
      "metadata": {
        "id": "UYkUwifGcM2E"
      },
      "execution_count": null,
      "outputs": []
    },
    {
      "cell_type": "markdown",
      "source": [
        "5.Given 2 numbers N and K followed by elements of N .Print 'yes' if K exists else print 'no'.\n",
        "Sample Testcase :\n",
        "INPUT\n",
        "4 2\n",
        "1 2 3 3\n",
        "OUTPUT\n",
        "yes"
      ],
      "metadata": {
        "id": "hRoQlcw9cRQf"
      }
    },
    {
      "cell_type": "code",
      "source": [
        "a,b = map(int,input().split( ))\n",
        "arr = list(map(int,input().split( )))\n",
        "if b in arr:\n",
        "    print('yes')\n",
        "else:\n",
        "    print('no')\n",
        "    "
      ],
      "metadata": {
        "id": "P5XZQYoPcXq0"
      },
      "execution_count": null,
      "outputs": []
    },
    {
      "cell_type": "markdown",
      "source": [
        "6.Output the total unit of Air encapsulated between the walls of chamber.\n",
        "\n",
        "Sample Input :\n",
        "3\n",
        "7 4 9\n",
        "Sample Output :\n",
        "3"
      ],
      "metadata": {
        "id": "UMZ40Q06caZ2"
      }
    },
    {
      "cell_type": "code",
      "source": [
        "n =int(input())\n",
        "l = [int(x) for x in input().split()]\n",
        "ans = 0\n",
        "for i in range(1, len(l)-1):\n",
        "    if l[i] < l[i-1] and l[i] < l[i+1]:\n",
        "        ans += min(l[i+1], l[i-1]) - l[i]\n",
        "print(ans)"
      ],
      "metadata": {
        "id": "B65E1IX5ciCk"
      },
      "execution_count": null,
      "outputs": []
    },
    {
      "cell_type": "markdown",
      "source": [
        "7.Matrix sorted in ascending order\n",
        "\n",
        "Sample Input :\n",
        "3 3\n",
        "87 21 34\n",
        "89 32 78\n",
        "12 23 45\n",
        "Sample Output :\n",
        "12 21 23\n",
        "32 34 45\n",
        "78 87 89"
      ],
      "metadata": {
        "id": "5eC-FaUKckv0"
      }
    },
    {
      "cell_type": "code",
      "source": [
        "(r, c) = map(int, input().split())\n",
        "a = []\n",
        "for i in range(r):\n",
        "     l = [int(x) for x in input().split()]\n",
        "     a.extend(l)\n",
        "a.sort()\n",
        "i = 0\n",
        "for j in range(r):\n",
        "    b = []\n",
        "    for k in range(c):\n",
        "        b.append(a[i])\n",
        "        i += 1\n",
        "    print(*b)"
      ],
      "metadata": {
        "id": "Pux1aTI4crl-"
      },
      "execution_count": null,
      "outputs": []
    },
    {
      "cell_type": "markdown",
      "source": [
        "8.Print 1 if array is majestic and 0 if it is not,A ‘majsetic’ array is an array whose sum of first three number is equal to last three number.\n",
        "\n",
        "Sample Input :\n",
        "7\n",
        "1 2 3 4 6 0 0\n",
        "Sample Output :\n",
        "1"
      ],
      "metadata": {
        "id": "YnzFbLbrculw"
      }
    },
    {
      "cell_type": "code",
      "source": [
        "\n",
        "n=int(input())\n",
        "b=list(map(int,input().split()))\n",
        "c1=b[:3]\n",
        "c2=b[-3:]\n",
        "if(sum(c1)==sum(c2)):\n",
        "   print(1) \n",
        "else:\n",
        "    print(0)\n"
      ],
      "metadata": {
        "id": "xPxHzvW_c6Yu"
      },
      "execution_count": null,
      "outputs": []
    },
    {
      "cell_type": "markdown",
      "source": [
        "9.Highest marks obtained by Rajesh.\n",
        "\n",
        "Sample Input :\n",
        "3\n",
        "82 96 72\n",
        "Sample Output :\n",
        "96"
      ],
      "metadata": {
        "id": "-C2nF0yzc9L7"
      }
    },
    {
      "cell_type": "code",
      "source": [
        "m=int(input())\n",
        "b=list(map(int,input().split()))\n",
        "print(max(b))\n",
        "\n"
      ],
      "metadata": {
        "id": "DYL0eQHzdE8h"
      },
      "execution_count": null,
      "outputs": []
    },
    {
      "cell_type": "markdown",
      "source": [
        "10.Alphabetically sorted set of strings\n",
        "\n",
        "Sample Input :\n",
        "3\n",
        "InfinityWar EndGame Avengers\n",
        "Sample Output :\n",
        "Avengers EndGame InfinityWar"
      ],
      "metadata": {
        "id": "by4xc_DGdHoM"
      }
    },
    {
      "cell_type": "code",
      "source": [
        "a=input()\n",
        "companies=list(map(str,input( ).split()))\n",
        "companies.sort()\n",
        "print(*companies)"
      ],
      "metadata": {
        "id": "8NEcNCfUdSMM"
      },
      "execution_count": null,
      "outputs": []
    },
    {
      "cell_type": "markdown",
      "source": [
        "11.Given a string S, print it after changing the middle element to * (if the length of the string is even, change the 2 middle elements to *).\n",
        "Sample Testcase :\n",
        "INPUT\n",
        "hello\n",
        "OUTPUT\n",
        "he*lo"
      ],
      "metadata": {
        "id": "1q9FpAIDdWHp"
      }
    },
    {
      "cell_type": "code",
      "source": [
        "text = input( )\n",
        "new = list(text)\n",
        "if(len(new)%2!=0 and len(new)>=2):\n",
        "   new[2] ='*'\n",
        "   print(''.join(new))\n",
        "elif(len(new)%2==0):\n",
        "    new[2]='*'\n",
        "    new[3]='*'\n",
        "    print(''.join(new))\n",
        "else:\n",
        "    new[0]='*'\n",
        "    print(''.join(new))"
      ],
      "metadata": {
        "id": "Yb6vsAdtdcTn"
      },
      "execution_count": null,
      "outputs": []
    },
    {
      "cell_type": "markdown",
      "source": [
        "12.Given a number N, print the sum of squares of all its digits.\n",
        "Input Size : 1 <= N <= 100000\n",
        "Sample Testcase :\n",
        "INPUT\n",
        "12\n",
        "OUTPUT\n",
        "5"
      ],
      "metadata": {
        "id": "wQpJssi8dfwR"
      }
    },
    {
      "cell_type": "code",
      "source": [
        "num = int(input())\n",
        "\n",
        "sum = 0\n",
        "while num!=0:\n",
        "    rem = num%10\n",
        "    sqr = rem*rem\n",
        "    sum = sum+sqr\n",
        "    num = int(num/10)\n",
        "print(sum)"
      ],
      "metadata": {
        "id": "wW2bdHVJdmZK"
      },
      "execution_count": null,
      "outputs": []
    },
    {
      "cell_type": "markdown",
      "source": [
        "13.Given numbers A,B find A^B.\n",
        "Input Size : 1 <= A <= 5 <= B <= 50\n",
        "Sample Testcase :\n",
        "INPUT\n",
        "3 4\n",
        "OUTPUT\n",
        "81"
      ],
      "metadata": {
        "id": "ekmriKzadrCL"
      }
    },
    {
      "cell_type": "code",
      "source": [
        "a,b = map(int,input( ).split( ))\n",
        "print(pow(a,b))"
      ],
      "metadata": {
        "id": "opmm5sykdybB"
      },
      "execution_count": null,
      "outputs": []
    },
    {
      "cell_type": "markdown",
      "source": [
        "14.Sorted list of employee names\n",
        "\n",
        "Sample Input :\n",
        "3\n",
        "Karthik 23000 rohan 81734 varshini 12343\n",
        "Sample Output :\n",
        "varshini\n",
        "Karthik\n",
        "Rohan"
      ],
      "metadata": {
        "id": "7kInzjeFd136"
      }
    },
    {
      "cell_type": "code",
      "source": [
        "num=int(input())\n",
        "a=input().split()\n",
        "salary=[]\n",
        "names=[]\n",
        "for i in a:\n",
        "    if i.isdigit():\n",
        "        salary.append(int(i))\n",
        "    else:\n",
        "        names.append(i)\n",
        "#print(names)\n",
        "#print(salary)\n",
        "arrange=sorted(salary)   \n",
        "for i in arrange:\n",
        "    jam=salary.index(i)\n",
        "    print(names[jam])"
      ],
      "metadata": {
        "id": "2Y27y0gcd9uu"
      },
      "execution_count": null,
      "outputs": []
    },
    {
      "cell_type": "markdown",
      "source": [
        "15.Given 2 numbers N and K followed by N elements,print the number of repetition of K otherwise print '-1' if the element not found.\n",
        "Sample Testcase :\n",
        "INPUT\n",
        "6 2\n",
        "1 2 3 5 7 8\n",
        "OUTPUT\n",
        "0"
      ],
      "metadata": {
        "id": "vX-h8i-weB37"
      }
    },
    {
      "cell_type": "code",
      "source": [
        "list = list(map(int,input( ).split( )))\n",
        "counts = {item:list.count(item) for item in list}\n",
        "if (len(counts)>=len(list)):\n",
        "   print(0)\n",
        "else:\n",
        "   print(-1)"
      ],
      "metadata": {
        "id": "uf08OUvEeHx7"
      },
      "execution_count": null,
      "outputs": []
    },
    {
      "cell_type": "markdown",
      "source": [
        "16.Given a number N and an array of N integers, find the sum of all the negative numbers in the array.\n",
        "Input Size : N <= 100000\n",
        "Sample Testcase :\n",
        "INPUT\n",
        "2\n",
        "3 0\n",
        "OUTPUT\n",
        "0"
      ],
      "metadata": {
        "id": "rlKhJPRoi8Xc"
      }
    },
    {
      "cell_type": "code",
      "source": [
        "num=int(input())\n",
        "arr=list(map(int,input().split()))\n",
        "sum=0\n",
        "for i in arr:\n",
        "    if i<0:\n",
        "     sum+=i\n",
        "print(sum)\n",
        "    "
      ],
      "metadata": {
        "id": "NNr2UF4ti_SY"
      },
      "execution_count": null,
      "outputs": []
    },
    {
      "cell_type": "markdown",
      "source": [
        ""
      ],
      "metadata": {
        "id": "22UAtHTAjE8p"
      }
    },
    {
      "cell_type": "code",
      "source": [
        ""
      ],
      "metadata": {
        "id": "Nevr5aqejDwl"
      },
      "execution_count": null,
      "outputs": []
    },
    {
      "cell_type": "code",
      "source": [
        ""
      ],
      "metadata": {
        "id": "fdwz-eoCjDkt"
      },
      "execution_count": null,
      "outputs": []
    }
  ]
}