{
  "nbformat": 4,
  "nbformat_minor": 0,
  "metadata": {
    "colab": {
      "name": "operations.ipynb",
      "provenance": [],
      "authorship_tag": "ABX9TyNTNj1cNEJICKX6wQhNax/j",
      "include_colab_link": true
    },
    "kernelspec": {
      "name": "python3",
      "display_name": "Python 3"
    },
    "language_info": {
      "name": "python"
    }
  },
  "cells": [
    {
      "cell_type": "markdown",
      "metadata": {
        "id": "view-in-github",
        "colab_type": "text"
      },
      "source": [
        "<a href=\"https://colab.research.google.com/github/krithi65/Array-programs/blob/main/operations.ipynb\" target=\"_parent\"><img src=\"https://colab.research.google.com/assets/colab-badge.svg\" alt=\"Open In Colab\"/></a>"
      ]
    },
    {
      "cell_type": "markdown",
      "source": [
        "39.Find the maximum number that can be formed using the digits.\n",
        "Input Size : N <= 10000000\n",
        "Sample Testcase :\n",
        "INPUT\n",
        "4123\n",
        "OUTPUT\n",
        "4321"
      ],
      "metadata": {
        "id": "GzOhVn1oJbOK"
      }
    },
    {
      "cell_type": "code",
      "source": [
        "# vowels list\n",
        "n=input()\n",
        "values=list(n)\n",
        "# sort the vowels\n",
        "values.sort(reverse=True)\n",
        "\n",
        "# print vowels\n",
        "new_s = \"\".join(values)\n",
        "print(new_s)"
      ],
      "metadata": {
        "id": "U5sCt4jIKDEz"
      },
      "execution_count": null,
      "outputs": []
    },
    {
      "cell_type": "markdown",
      "source": [
        "40.Given a binary number convert it into octal format.\n",
        "Sample Testcase :\n",
        "INPUT\n",
        "1100100\n",
        "OUTPUT\n",
        "144"
      ],
      "metadata": {
        "id": "l9QT58cJKGDg"
      }
    },
    {
      "cell_type": "code",
      "source": [
        "n=input()\n",
        "print(oct(int(n, 2))[2:])"
      ],
      "metadata": {
        "id": "xA8aE-k-KRvM"
      },
      "execution_count": null,
      "outputs": []
    },
    {
      "cell_type": "markdown",
      "source": [
        "41.Given 2 numbers N,K and an array of N strings, find if any K consecutive strings are same.\n",
        "Input Size : K <= N <= 1000\n",
        "Sample Testcase :\n",
        "INPUT\n",
        "5 3\n",
        "code\n",
        "overload\n",
        "vishal\n",
        "vishal\n",
        "vishal\n",
        "OUTPUT\n",
        "yes"
      ],
      "metadata": {
        "id": "KjlRV7SQKVJf"
      }
    },
    {
      "cell_type": "code",
      "source": [
        "n,blen=map(int,input().split())\n",
        "a = []\n",
        "for i in range(n):\n",
        "    a.append(str(input()))\n",
        "#print(a)\n",
        "flag = False\n",
        "for i in range(n-1):\n",
        "        if a[i] == a[i+1]:\n",
        "            flag = True\n",
        "if flag:\n",
        "    print(\"yes\")\n",
        "else:\n",
        "    print(\"no\")"
      ],
      "metadata": {
        "id": "zEIkmzabKT8I"
      },
      "execution_count": null,
      "outputs": []
    },
    {
      "cell_type": "markdown",
      "source": [
        "42.Given a string S, print 'yes' if the strings 'GUVI' and 'GEEK' is present case-sensitively in the string else print 'no'.\n",
        "Input Size : 1 <= 100\n",
        "Sample Testcase :\n",
        "INPUT\n",
        "Vishal_Sundar prepared this question\n",
        "OUTPUT\n",
        "no"
      ],
      "metadata": {
        "id": "d6i4p6MWKdt4"
      }
    },
    {
      "cell_type": "code",
      "source": [
        "string=input()\n",
        "a=string.isupper()\n",
        "if(a==True):\n",
        "    print(\"yes\")\n",
        "else:\n",
        "  print(\"no\")"
      ],
      "metadata": {
        "id": "46OzX6y7KmsE"
      },
      "execution_count": null,
      "outputs": []
    },
    {
      "cell_type": "markdown",
      "source": [
        "43.Given an array of N elements switch(swap) the element with the adjacent element and print the output.\n",
        "Sample Testcase :\n",
        "INPUT\n",
        "5\n",
        "3 2 1 2 3\n",
        "OUTPUT\n",
        "2 3 2 1 3"
      ],
      "metadata": {
        "id": "vGzxNL5dKo-e"
      }
    },
    {
      "cell_type": "code",
      "source": [
        "n=int(input( ))\n",
        "data = list(map(int,input( ).split( )))\n",
        "i = 0\n",
        "while i < data.__len__()-1:\n",
        "    t = data[i]\n",
        "    data[i] = data[i + 1]\n",
        "    data[i + 1] = t\n",
        "    i = i + 2\n",
        "print(*data)"
      ],
      "metadata": {
        "id": "h2KXAUoaKuCC"
      },
      "execution_count": null,
      "outputs": []
    },
    {
      "cell_type": "markdown",
      "source": [
        "44.Given 2 arrays print 'yes' if they are mirror images of each other,otherwise 'no'.\n",
        "Input Size : N <= 1000000\n",
        "Sample Testcase :\n",
        "INPUT\n",
        "4\n",
        "1 2 3 4\n",
        "4 3 2 1\n",
        "OUTPUT\n",
        "yes"
      ],
      "metadata": {
        "id": "IC593DRRKwR2"
      }
    },
    {
      "cell_type": "code",
      "source": [
        "a=int(input())\n",
        "arr1=list(map(int,input().split( )))\n",
        "arr2=list(map(int,input().split( )))\n",
        "if list(arr1)==list(reversed(arr2)):\n",
        "    print(\"yes\")\n",
        "else:\n",
        "    print(\"no\")"
      ],
      "metadata": {
        "id": "BCOOv1ulK6yf"
      },
      "execution_count": null,
      "outputs": []
    },
    {
      "cell_type": "markdown",
      "source": [
        "45.Print the lcm\n",
        "\n",
        "Sample Input :\n",
        "4\n",
        "2 4 6 8\n",
        "Sample Output :\n",
        "24"
      ],
      "metadata": {
        "id": "aLNI40g0K9c4"
      }
    },
    {
      "cell_type": "code",
      "source": [
        "import math\n",
        "b=int(input())\n",
        "a=list(map(int,input().split()))\n",
        "lcm = a[0]\n",
        "for i in range(1,len(a)):\n",
        "  lcm = lcm*a[i]//math.gcd(lcm, a[i])\n",
        "print (lcm)"
      ],
      "metadata": {
        "id": "y6dysC-OLDCk"
      },
      "execution_count": null,
      "outputs": []
    },
    {
      "cell_type": "markdown",
      "source": [
        "46.to print the gcd of number\n",
        "\n",
        "Sample Input :\n",
        "6\n",
        "2 4 8 16\n",
        "Sample Output :\n",
        "2"
      ],
      "metadata": {
        "id": "7WI6oKBSLFM6"
      }
    },
    {
      "cell_type": "code",
      "source": [
        "import math\n",
        "n=int(input())\n",
        "A=list(map(int,input().split()))\n",
        "b=A[0]  \n",
        "for j in range(1,len(A)):\n",
        "    s=math.gcd(b,A[j])\n",
        "    b=s\n",
        "print(b)"
      ],
      "metadata": {
        "id": "CcggygcSLLNK"
      },
      "execution_count": null,
      "outputs": []
    },
    {
      "cell_type": "markdown",
      "source": [
        "47.Given a number N and an array of N elements, every number is repeated except for one. Print that one number.\n",
        "Input Size : 1 <= N <= 100000\n",
        "Sample Testcase :\n",
        "INPUT\n",
        "10\n",
        "1 2 3 2 3 3 2 5 5 2\n",
        "OUTPUT\n",
        "1"
      ],
      "metadata": {
        "id": "QIBLg9HsLOUd"
      }
    },
    {
      "cell_type": "code",
      "source": [
        "n=int(input())\n",
        "si=str(input())\n",
        "l=[]\n",
        "for i in si:\n",
        "    count=si.count(i)\n",
        "    if(count==1):\n",
        "      l.append(i)  \n",
        "for i in l:\n",
        "    print(*l)"
      ],
      "metadata": {
        "id": "ofknqhOMLTr0"
      },
      "execution_count": null,
      "outputs": []
    },
    {
      "cell_type": "markdown",
      "source": [
        "48. find the number of ones in its binary representation.\n",
        "Sample Testcase :\n",
        "INPUT\n",
        "276\n",
        "OUTPUT\n",
        "3"
      ],
      "metadata": {
        "id": "DYe3CmX2LWD9"
      }
    },
    {
      "cell_type": "code",
      "source": [
        "n=int(input())\n",
        "binary=bin(n)\n",
        "print(binary.count('1'))\n"
      ],
      "metadata": {
        "id": "9rSMOLvmLbgz"
      },
      "execution_count": null,
      "outputs": []
    },
    {
      "cell_type": "markdown",
      "source": [
        "49.find the Bitwise XOR of the array elements.\n",
        "Input Size : N <= 100000\n",
        "Sample Testcase :\n",
        "INPUT\n",
        "2\n",
        "2 4\n",
        "OUTPUT\n",
        "6"
      ],
      "metadata": {
        "id": "-R8dmJJLLeJE"
      }
    },
    {
      "cell_type": "code",
      "source": [
        "n=int(input())\n",
        "arr=input().split()\n",
        "bit=int(n)\n",
        "for i in arr:\n",
        "    bit=bit|int(arr[-1])\n",
        "print(bit)    "
      ],
      "metadata": {
        "id": "IP-DhtfoLj4K"
      },
      "execution_count": null,
      "outputs": []
    },
    {
      "cell_type": "markdown",
      "source": [
        "50.Given a string S consisting of only '(' and ')', print 'yes' if it is balanced otherwise print 'no'.\n",
        "Sample Testcase :\n",
        "INPUT\n",
        "(())\n",
        "OUTPUT\n",
        "yes"
      ],
      "metadata": {
        "id": "ph09qWLVLmH8"
      }
    },
    {
      "cell_type": "code",
      "source": [
        "def isbalanced(s):\n",
        "  c= 0\n",
        "  ans=False\n",
        "  for i in s:\n",
        "    if i == \"(\": \n",
        "     c += 1\n",
        "    elif i == \")\":\n",
        "     c-= 1\n",
        "    if c < 0:\n",
        "     return True\n",
        "    if c==0:\n",
        "     return not ans\n",
        "  return False\n",
        "s=input()\n",
        "if isbalanced(s)==True:\n",
        "    print(\"yes\")\n",
        "else:\n",
        "    print(\"no\")"
      ],
      "metadata": {
        "id": "qZKOT3-DLsFm"
      },
      "execution_count": null,
      "outputs": []
    },
    {
      "cell_type": "markdown",
      "source": [
        "51.Given a number N and an array of N elements, print the prefix sum array.\n",
        "Input Size : N <= 100000\n",
        "Sample Testcase :\n",
        "INPUT\n",
        "4\n",
        "2 4 4 2\n",
        "OUTPUT\n",
        "2 6 10 12"
      ],
      "metadata": {
        "id": "rT_YofD5Lvc0"
      }
    },
    {
      "cell_type": "code",
      "source": [
        "n=int(input())\n",
        "arr=[int(x)for x in input().split()]\n",
        "sum=0\n",
        "l=[]\n",
        "for i in range(n):\n",
        "    sum+=arr[i]\n",
        "    l.append(sum)\n",
        "print(*l)"
      ],
      "metadata": {
        "id": "wIw6nVvwL643"
      },
      "execution_count": null,
      "outputs": []
    },
    {
      "cell_type": "markdown",
      "source": [
        "52.print the sum of all the odd numbers within the range(inclusive of L and R).\n",
        "Sample Testcase:\n",
        "INPUT\n",
        "5 10\n",
        "OUTPUT\n",
        "21"
      ],
      "metadata": {
        "id": "ZAklYIjoL-uR"
      }
    },
    {
      "cell_type": "code",
      "source": [
        "lower,upper = map(int,input().split())\n",
        "\n",
        "s=0\n",
        "for i in range(lower, upper+1):\n",
        "   if(i%2!=0):\n",
        "      s=s+i \n",
        "print(s)"
      ],
      "metadata": {
        "id": "_LNvMV0YMFPh"
      },
      "execution_count": null,
      "outputs": []
    },
    {
      "cell_type": "markdown",
      "source": [
        "53. print the smallest number which is divisible by both L and R.\n",
        "Input Size : 1 <= L,R <= 100000\n",
        "Sample Testcase :\n",
        "INPUT\n",
        "10 130\n",
        "OUTPUT\n",
        "130"
      ],
      "metadata": {
        "id": "ch527kFQMI3H"
      }
    },
    {
      "cell_type": "markdown",
      "source": [
        "54.find the lexicographically smallest string.\n",
        "Input Size : N <= 1000\n",
        "Sample Testcase :\n",
        "INPUT\n",
        "3\n",
        "code\n",
        "learn\n",
        "practice\n",
        "OUTPUT\n",
        "# code"
      ],
      "metadata": {
        "id": "3lBNzhFEMItw"
      }
    },
    {
      "cell_type": "code",
      "source": [
        "n = int(input())\n",
        "l = []\n",
        "for i in range(n):\n",
        "    l.append(str(input()))\n",
        "l.sort()\n",
        "print(l[0])"
      ],
      "metadata": {
        "id": "r2a85gHFL9Xi"
      },
      "execution_count": null,
      "outputs": []
    },
    {
      "cell_type": "markdown",
      "source": [
        "55. Find the odd digits in the number, add them and find if the sum is odd or not. If even print E, if odd print O.\n",
        "Input Size : N <= 10000000000\n",
        "Sample Testcase :\n",
        "INPUT\n",
        "413\n",
        "OUTPUT\n",
        "E"
      ],
      "metadata": {
        "id": "btdpmsirLvZn"
      }
    },
    {
      "cell_type": "code",
      "source": [
        "\n",
        "n = int(input())\n",
        "\n",
        "s = 0\n",
        "while n > 0:\n",
        "    r = n % 10\n",
        "    if r % 2 != 0:\n",
        "        s = s + r\n",
        "    n = int(n / 10)\n",
        "if(s%2==0):\n",
        "    print(\"E\")\n",
        "else:\n",
        "    print(\"O\")\n",
        "    "
      ],
      "metadata": {
        "id": "ipuSM3PALucc"
      },
      "execution_count": null,
      "outputs": []
    }
  ]
}