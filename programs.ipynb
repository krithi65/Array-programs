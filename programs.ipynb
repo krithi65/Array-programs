{
  "nbformat": 4,
  "nbformat_minor": 0,
  "metadata": {
    "colab": {
      "name": "programs.ipynb",
      "provenance": [],
      "authorship_tag": "ABX9TyNmNLamsYrBR5Dx0P1MkGie",
      "include_colab_link": true
    },
    "kernelspec": {
      "name": "python3",
      "display_name": "Python 3"
    },
    "language_info": {
      "name": "python"
    }
  },
  "cells": [
    {
      "cell_type": "markdown",
      "metadata": {
        "id": "view-in-github",
        "colab_type": "text"
      },
      "source": [
        "<a href=\"https://colab.research.google.com/github/krithi65/Array-programs/blob/main/programs.ipynb\" target=\"_parent\"><img src=\"https://colab.research.google.com/assets/colab-badge.svg\" alt=\"Open In Colab\"/></a>"
      ]
    },
    {
      "cell_type": "markdown",
      "source": [
        "56.Two strings are said to have same base alphabets if they use the same characters to form the word. eg: rescue and curse have same base alphabets - c,e,r,s,u.If it so print 'true' else print 'false'.\n",
        "Input Size : |S| <= 1000000\n",
        "Sample Testcase :\n",
        "INPUT\n",
        "rescue curse\n",
        "OUTPUT\n",
        "true"
      ],
      "metadata": {
        "id": "0Ils3iXSNMw3"
      }
    },
    {
      "cell_type": "code",
      "source": [
        "\n",
        "(s1, s2) = map(str, input().split(\" \"))\n",
        "a = []\n",
        "for i in range(len(s1)):\n",
        "    a.append(s1[i])\n",
        "for i in range(len(s2)):\n",
        "    if s2[i] not in a:\n",
        "        flag = False\n",
        "        break\n",
        "    else:\n",
        "        flag = True\n",
        "if flag:\n",
        "    print(\"true\")\n",
        "else:\n",
        "    print(\"false\")"
      ],
      "metadata": {
        "id": "Zi83TSi6NkBO"
      },
      "execution_count": null,
      "outputs": []
    },
    {
      "cell_type": "markdown",
      "source": [
        "57. print the first N Catalan numbers.\n",
        "Input Size : N <= 100\n",
        "Sample Testcase :\n",
        "INPUT\n",
        "1\n",
        "OUTPUT\n",
        "1 1"
      ],
      "metadata": {
        "id": "8JIwrl-FNmMl"
      }
    },
    {
      "cell_type": "code",
      "source": [
        "def catalan(n):  \n",
        "    if n <=1 : \n",
        "        return 1 \n",
        "    res = 0 \n",
        "    for i in range(n): \n",
        "        res += catalan(i) * catalan(n-i-1) \n",
        "    return res\n",
        "n = int(input())\n",
        "a = []\n",
        "for i in range(n+1):\n",
        "    a.append(catalan(i))\n",
        "print(*a)"
      ],
      "metadata": {
        "id": "Z-9iqRClNr29"
      },
      "execution_count": null,
      "outputs": []
    },
    {
      "cell_type": "markdown",
      "source": [
        "58.Find the largest number which can be formed from the given numbers and print it.\n",
        "NOTE: Each number should be used exactly once.\n",
        "Input Size : 1 <= N <= 100000\n",
        "Sample Testcases :\n",
        "INPUT\n",
        "5\n",
        "5 6 7 8 9\n",
        "OUTPUT\n",
        "98765"
      ],
      "metadata": {
        "id": "wdgZgUeiNumC"
      }
    },
    {
      "cell_type": "code",
      "source": [
        "n=int(input())\n",
        "arr=list(map(int,input().split()))\n",
        "arr.sort(reverse=True)\n",
        "num=arr[0]\n",
        "for i in range(1,n):\n",
        "    num=num*10+arr[i]\n",
        "print(num)    "
      ],
      "metadata": {
        "id": "8xIjt7jPN3e_"
      },
      "execution_count": null,
      "outputs": []
    },
    {
      "cell_type": "markdown",
      "source": [
        "59.Given a string S of length N, write a program that would reverse every word in the string.\n",
        "Input Size : 1 <= N <= 100000\n",
        "Sample Testcases :\n",
        "INPUT\n",
        "Hello World\n",
        "OUTPUT\n",
        "olleH dlroW"
      ],
      "metadata": {
        "id": "-O5rys6lN5zc"
      }
    },
    {
      "cell_type": "code",
      "source": [
        "w=input().split(\" \")# get input seperated by space\n",
        "nw=[i[::-1]for i in w]#reverse every word and store in list\n",
        "ns=\" \".join(nw)#the new sentence is joined with regarding space\n",
        "print(ns)"
      ],
      "metadata": {
        "id": "swTx86BrN__9"
      },
      "execution_count": null,
      "outputs": []
    },
    {
      "cell_type": "markdown",
      "source": [
        "60.Check if array B is a subset of array A. if yes print 'yes' else print 'no'.\n",
        "Input Size : 1 <= N <= 1000000\n",
        "Sample Testcases :\n",
        "INPUT\n",
        "7 6\n",
        "1 2 3 4 5 6 7\n",
        "3 4 5 6 7 1\n",
        "OUTPUT\n",
        "yes"
      ],
      "metadata": {
        "id": "swy47_qtOLyN"
      }
    },
    {
      "cell_type": "code",
      "source": [
        "n,m=map(int,input().split())\n",
        "arr1=list(map(int,input().split()))\n",
        "arr2=list(map(int,input().split()))\n",
        "flag = True\n",
        "for i in arr2:\n",
        "    if i not in arr1:\n",
        "        flag = False\n",
        "        break\n",
        "if (flag):\n",
        "    print(\"yes\")\n",
        "else:\n",
        "    print(\"no\")"
      ],
      "metadata": {
        "id": "2cWJJ4x5OOxq"
      },
      "execution_count": null,
      "outputs": []
    },
    {
      "cell_type": "markdown",
      "source": [
        "61.Print the lcm\n",
        "\n",
        "Sample Input :\n",
        "4\n",
        "2 4 6 8\n",
        "Sample Output :\n",
        "24"
      ],
      "metadata": {
        "id": "ieAfrGACORpF"
      }
    },
    {
      "cell_type": "code",
      "source": [
        "import math\n",
        "b=int(input())\n",
        "a=list(map(int,input().split()))\n",
        "lcm = a[0]\n",
        "for i in range(1,len(a)):\n",
        "  lcm = lcm*a[i]//math.gcd(lcm, a[i])\n",
        "print (lcm)"
      ],
      "metadata": {
        "id": "ZTnKjxXwbkqD"
      },
      "execution_count": null,
      "outputs": []
    },
    {
      "cell_type": "markdown",
      "source": [
        "63.Given a number N and an array of N elements, print the suffix sum of the array.\n",
        "Input Size : N <= 100000\n",
        "Sample Testcase :\n",
        "INPUT\n",
        "4\n",
        "2 4 4 2\n",
        "OUTPUT\n",
        "12 10 6 2"
      ],
      "metadata": {
        "id": "TOH4UfjGbovD"
      }
    },
    {
      "cell_type": "code",
      "source": [
        "n=int(input())\n",
        "arr=[int(x)for x in input().split()]\n",
        "l=[]\n",
        "for i in range(n):\n",
        "    sum=0\n",
        "    for j in range(i,n):\n",
        "       sum+=arr[j]\n",
        "    l.append(sum)\n",
        "print(*l)"
      ],
      "metadata": {
        "id": "b9L-H5o1bzNI"
      },
      "execution_count": null,
      "outputs": []
    },
    {
      "cell_type": "markdown",
      "source": [
        "64.Given two numbers L,R print the smallest number which is divisible by both L and R.\n",
        "Input Size : 1 <= L,R <= 100000\n",
        "Sample Testcase :\n",
        "INPUT\n",
        "10 130\n",
        "OUTPUT\n",
        "130"
      ],
      "metadata": {
        "id": "mSB41Sg9b7nG"
      }
    },
    {
      "cell_type": "code",
      "source": [
        "import math\n",
        "n,m=map(int,input().split())\n",
        "print((n*m)//math.gcd(n,m))"
      ],
      "metadata": {
        "id": "UWi4m4Vsb-Bk"
      },
      "execution_count": null,
      "outputs": []
    },
    {
      "cell_type": "markdown",
      "source": [
        ""
      ],
      "metadata": {
        "id": "zYA-T0eFcAWV"
      }
    }
  ]
}